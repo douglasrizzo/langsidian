{
  "cells": [
    {
      "cell_type": "code",
      "execution_count": 1,
      "metadata": {},
      "outputs": [],
      "source": [
        "from pathlib import Path\n",
        "\n",
        "from langsidian import ChatBot, DocumentBase"
      ]
    },
    {
      "cell_type": "code",
      "execution_count": 2,
      "metadata": {},
      "outputs": [
        {
          "name": "stderr",
          "output_type": "stream",
          "text": [
            "WARNING:langchain_community.document_loaders.obsidian:Encountered non-yaml frontmatter\n"
          ]
        }
      ],
      "source": [
        "bot = ChatBot(\n",
        "  docs_path=(Path.home() / \"Documents\" / \"Obsidian\"),\n",
        "  vectorstore_db_path=Path(\"docs/chroma\"),\n",
        "  document_type=DocumentBase.OBSIDIAN,\n",
        "  model_type=\"mistral:7b-instruct\",\n",
        "  embeddings=\"nomic\",\n",
        ")"
      ]
    },
    {
      "cell_type": "code",
      "execution_count": 5,
      "metadata": {},
      "outputs": [
        {
          "name": "stdout",
          "output_type": "stream",
          "text": [
            "**Question: Give me the equation for the action value function update.**\n",
            "\n",
            " Answer: The equation for the action value function update is:\n",
            "\n",
            "$$Q_{t+n}(S_t, A_t) \\doteq Q_{t+n-1}(S_t, A_t) + \\alpha [G_{t:t+n} - \\gamma^n Q_{t+n-1}(S_t, A_t)]$$\n",
            "\n",
            "---\n",
            "\n",
            "**Question: What is the overall architecture of the Deep Q-Networks?**\n",
            "\n",
            " Answer: The text does not describe the overall architecture of the Deep Q-Networks, therefore I cannot answer the question.\n",
            "\n",
            "---\n",
            "\n",
            "**Question: What is the difference between causal language modelling and masked language modelling?**\n",
            "\n",
            " Answer: I do not have the answer to this question, as the text does not provide information about causal language modelling. Therefore I cannot answer this question.\n",
            "\n",
            "---\n",
            "\n",
            "**Question: What is zero-shot learning?**\n",
            "\n",
            " Answer: I don't know. The text does not define zero-shot learning, therefore I cannot answer the question.\n",
            "\n",
            "---\n",
            "\n",
            "**Question: Explain to me the concept of bucketing in RNNs.**\n",
            "\n",
            " Answer: The text you provided describes a technique for batching sequences for RNNs called bucketing.\n",
            "\n",
            "**Bucketing in RNNs**\n",
            "\n",
            "Bucketing is a technique for grouping sequences of different lengths into a single batch. This is important for RNNs because it allows us to process sequences of different lengths in a uniform way.\n",
            "\n",
            "The text describes a specific technique for batching sequences using bucketing. This technique is called \"packing padded sequences.\"\n",
            "\n",
            "**Packing padded sequences**\n",
            "\n",
            "Packing padded sequences involves adding padding to the shorter sequences in the batch until they are all the same length. This ensures that all sequences in the batch have the same number of elements, which is necessary for efficient processing by the RNN.\n",
            "\n",
            "**Conclusion**\n",
            "\n",
            "Bucketing is a technique for batching sequences for RNNs that minimizes padding. It involves packing padded sequences into a single batch. This technique is useful for speeding up the training of RNNs.\n",
            "\n",
            "---\n",
            "\n",
            "**Question: What is a named entity in the concept of NLP?**\n",
            "\n",
            " Answer: I don't know. The text does not explain the answer to this question.\n",
            "\n",
            "---\n",
            "\n"
          ]
        }
      ],
      "source": [
        "questions = [\n",
        "  \"Give me the equation for the action value function update.\",\n",
        "  \"What is the overall architecture of the Deep Q-Networks?\",\n",
        "  \"What is the difference between causal language modelling and masked language modelling?\",\n",
        "  \"What is zero-shot learning?\",\n",
        "  \"Explain to me the concept of bucketing in RNNs.\",\n",
        "  \"What is a named entity in the concept of NLP?\",\n",
        "]\n",
        "\n",
        "for q in questions:\n",
        "  result = bot.answer(q)\n",
        "  print(f\"**Question: {q}**\\n\\n Answer: {result}\", end=\"\\n\\n---\\n\\n\")"
      ]
    }
  ],
  "metadata": {
    "kernelspec": {
      "display_name": "langsidian",
      "language": "python",
      "name": "python3"
    },
    "language_info": {
      "codemirror_mode": {
        "name": "ipython",
        "version": 3
      },
      "file_extension": ".py",
      "mimetype": "text/x-python",
      "name": "python",
      "nbconvert_exporter": "python",
      "pygments_lexer": "ipython3",
      "version": "3.12.2"
    }
  },
  "nbformat": 4,
  "nbformat_minor": 2
}
