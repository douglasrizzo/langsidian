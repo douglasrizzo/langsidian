{
  "cells": [
    {
      "cell_type": "markdown",
      "metadata": {},
      "source": [
        "# Answering questions from an Obsidian database with LLMs + RAG\n",
        "\n",
        "This notebook presents a proof-of-concept on how to create a question-answering bot powered by an LLM and with knowledge extracted from actual documents, more specifically, a collection of notes from Obsidian.\n",
        "\n",
        "I am going to run all experiments locally, using a 7th gen i7, an NVIDIA GTX 1070 and 32 GBs of RAM.\n",
        "\n",
        "A lot of the heavy lifting will be done by the [LangChain](https://www.langchain.com/) package, which I am on the process of learning to use.\n",
        "\n",
        "On the road to building this Q&A bot, we will be introduced to many concepts:\n",
        "\n",
        "1. Document loading\n",
        "1. Text data cleaning using regex\n",
        "1. Splitting of Markdown documents into text chunks\n",
        "1. Sentence embeddings\n",
        "1. Vector stores\n",
        "1. Similarity search using cosine similarity between embedding vectors\n",
        "1. Maximum marginal relevance search\n",
        "1. Self-query retrieval\n",
        "1. Contextual compression retrieval\n",
        "1. Question-answering with retrieval augmented generation\n",
        "1. Question-answering with retrieval augmented generation and custom templates\n",
        "\n",
        "So that no one gets lost, the following diagram explains how the whole pipeline to get to our final Q&A bot (and how this notebook) works:\n",
        "\n",
        "![My happy picture](assets/diagram.png)\n",
        "\n",
        "## Prerequisites\n",
        "\n",
        "1. You can find the environment.yml file to create a conda env with the necessary dependencies to run the notebook.\n",
        "2. You should download a model from the GPT4All website and save it on `./models/my_little_llm.gguf`. The one below is the one I used.\n",
        "\n",
        "    ```sh\n",
        "    wget https://gpt4all.io/models/gguf/mistral-7b-openorca.Q4_0.gguf -O models/my_little_llm.gguf\n",
        "    ```"
      ]
    },
    {
      "cell_type": "markdown",
      "metadata": {},
      "source": [
        "## Loading documents\n",
        "\n",
        "Here I used the `ObsidianLoader` document loader and point it to the directory that contains all my notes in Markdown format.\n",
        "\n",
        "We can see I have ~500 text files."
      ]
    },
    {
      "cell_type": "code",
      "execution_count": 1,
      "metadata": {},
      "outputs": [],
      "source": [
        "from pathlib import Path\n",
        "\n",
        "docs_path = (Path.home() / \"Documents\" / \"Obsidian\").absolute()"
      ]
    },
    {
      "cell_type": "code",
      "execution_count": 2,
      "metadata": {},
      "outputs": [
        {
          "name": "stderr",
          "output_type": "stream",
          "text": [
            "Encountered non-yaml frontmatter\n"
          ]
        },
        {
          "name": "stdout",
          "output_type": "stream",
          "text": [
            "Loaded 499 docs\n"
          ]
        }
      ],
      "source": [
        "from langchain_community.document_loaders import ObsidianLoader\n",
        "\n",
        "loader = ObsidianLoader(docs_path, collect_metadata=True, encoding=\"UTF-8\")\n",
        "docs = loader.load()\n",
        "print(f\"Loaded {len(docs)} docs\")"
      ]
    },
    {
      "cell_type": "markdown",
      "metadata": {},
      "source": [
        "Let's take a peek at one of the documents. We can see it has the textual content itself, as well as some metadata. The `ObsidianLoader` includes file properties from Obsidian documents, such as tags, dates and aliases, as part of the metadata."
      ]
    },
    {
      "cell_type": "code",
      "execution_count": 3,
      "metadata": {},
      "outputs": [
        {
          "data": {
            "text/plain": [
              "Document(page_content='A method for pre-training [[language model]]s in which the model has access to the first tokens of the sequence and its task is to predict the next token.\\n\\nThe following examples depict how a single sequence can be turned into multiple training examples:\\n\\n1. `<START>` \u2192 `the`\\n1. `<START> the` \u2192 `teacher`\\n1. `<START> the teacher` \u2192 `teaches`\\n1. `<START> the teacher teaches` \u2192 `the`\\n1. `<START> the teacher teaches the` \u2192 `student`\\n1. `<START> the teacher teaches the student` \u2192 `<END>`\\n\\nModels trained using this method have access to the full sequence of tokens at inference time, making them appropriate for non-generative tasks that revolve around processing a sequence of tokens as a whole, for example:\\n\\n- [[Sentiment Analysis]]\\n- [[Named entity recognition]]\\n- [[Word classification]]\\n\\n[[Bidirectional Encoder Representation from Transformers|BERT]] is an example of a masked language model. Example from [[Bidirectional Encoder Representation from Transformers|BERT]]: Choose 15% of the tokens at random: mask them 80% of the time, replace them with a random token 10% of the time, or keep as is 10% of the time.\\n\\n## Sources\\n\\n- [[DeepLearning.AI Natural Language Processing Specialization]]\\n- [[Generative AI with Large Language Models]]', metadata={'source': 'Causal language modeling.md', 'path': '/home/dodo/Documents/Obsidian/Causal language modeling.md', 'created': 1700448369.2719378, 'last_modified': 1700448369.2719378, 'last_accessed': 1708267659.2105181, 'tags': 'area/ai/nlp/llm', 'date': '2023-11-19 23:41'})"
            ]
          },
          "execution_count": 3,
          "metadata": {},
          "output_type": "execute_result"
        }
      ],
      "source": [
        "docs[7]"
      ]
    },
    {
      "cell_type": "markdown",
      "metadata": {},
      "source": [
        "## Cleaning documents\n",
        "\n",
        "Obsidian documents have some of their own Markdown flavor, like `[[Graph Neural Network|GNNs]]`, where `Graph Neural Network` is the name of a document and `GNNs` is what appears on the text. In cases like these, we want to keep only the second part.\n",
        "\n",
        "It also has full-on links, such as `[[grid world]]`, in which case we want to remove the double brackets."
      ]
    },
    {
      "cell_type": "code",
      "execution_count": 4,
      "metadata": {},
      "outputs": [
        {
          "data": {
            "text/plain": [
              "('- [[Intersection over Union|IoU]]', '- IoU')"
            ]
          },
          "execution_count": 4,
          "metadata": {},
          "output_type": "execute_result"
        }
      ],
      "source": [
        "# !pip install google-re2\n",
        "import re2\n",
        "\n",
        "docus = []\n",
        "insane_pattern = r\"\\[\\[([^\\]]*?)\\|([^\\[]*?)\\]\\]\"\n",
        "for doc in docs:\n",
        "  s = re2.search(insane_pattern, doc.page_content)\n",
        "  if s is not None:\n",
        "    new_doc = re2.sub(insane_pattern, r\"\\2\", doc.page_content)\n",
        "    docus.append((\n",
        "      doc.page_content,\n",
        "      new_doc,\n",
        "    ))\n",
        "    doc.page_content = new_doc\n",
        "  doc.page_content = doc.page_content.replace(\"[[\", \"\").replace(\"]]\", \"\")\n",
        "\n",
        "sorted(docus, key=lambda x: len(x[1]))[0]"
      ]
    },
    {
      "cell_type": "markdown",
      "metadata": {},
      "source": [
        "## Splitting documents\n",
        "\n",
        "This step splits the documents loaded in the previous step into smaller chunks.\n",
        "\n",
        "LangChain provides its own Markdown text splitter, which we are going to use."
      ]
    },
    {
      "cell_type": "code",
      "execution_count": 5,
      "metadata": {},
      "outputs": [
        {
          "data": {
            "text/plain": [
              "1510"
            ]
          },
          "execution_count": 5,
          "metadata": {},
          "output_type": "execute_result"
        }
      ],
      "source": [
        "from langchain.text_splitter import MarkdownTextSplitter\n",
        "\n",
        "splitter = MarkdownTextSplitter(chunk_size=400, chunk_overlap=50)\n",
        "splits = splitter.split_documents(docs)\n",
        "\n",
        "\n",
        "len(splits)"
      ]
    },
    {
      "cell_type": "markdown",
      "metadata": {},
      "source": [
        "Let's take a peek at a chunk. They inherit the metadata of their parent document."
      ]
    },
    {
      "cell_type": "code",
      "execution_count": 6,
      "metadata": {},
      "outputs": [
        {
          "data": {
            "text/plain": [
              "Document(page_content='# epsilon-soft policies\\n\\nAn $\\\\epsilon$-soft policy is a stochastic policy that always assigns a non-zero $\\\\frac{\\\\epsilon}{|A|}$ probability to all actions. These policies always perform some exploration.\\n\\nThe uniform random policy is an $\\\\epsilon$-soft policy. The epsilon-greedy policy also is.', metadata={'source': 'epsilon-soft policies.md', 'path': '/home/dodo/Documents/Obsidian/epsilon-soft policies.md', 'created': 1680669506.8282943, 'last_modified': 1680669506.8282943, 'last_accessed': 1708267660.780534, 'tags': 'area/ai/rl project/rl-spec', 'aliases': 'epsilon-soft policy', 'date': '2021-05-24 18:32'})"
            ]
          },
          "execution_count": 6,
          "metadata": {},
          "output_type": "execute_result"
        }
      ],
      "source": [
        "splits[542]"
      ]
    },
    {
      "cell_type": "markdown",
      "metadata": {},
      "source": [
        "## Computing embeddings and saving them to a vector store\n",
        "\n",
        "To quickly search for text chunks, it is useful to precompute an embedding vector for each chunk and store it for future use.\n",
        "\n",
        "An embedding vector is a numerical vector that represents the text chunk. It allows us to compare chunks in the embedding space. Chunks with similar semantic meaning tend to have similar embedding vectors. This similarity can be computed using e.g. cosine similarity.\n",
        "\n",
        "My choice for embedding generator was [SentenceTransformers](https://www.sbert.net/), provided by Hugging Face. It runs locally"
      ]
    },
    {
      "cell_type": "code",
      "execution_count": 7,
      "metadata": {},
      "outputs": [
        {
          "name": "stderr",
          "output_type": "stream",
          "text": [
            "/home/dodo/.anaconda3/envs/langsidian/lib/python3.12/site-packages/tqdm/auto.py:21: TqdmWarning: IProgress not found. Please update jupyter and ipywidgets. See https://ipywidgets.readthedocs.io/en/stable/user_install.html\n",
            "  from .autonotebook import tqdm as notebook_tqdm\n"
          ]
        }
      ],
      "source": [
        "# !pip install sentence_transformers\n",
        "from langchain.embeddings.huggingface import HuggingFaceEmbeddings\n",
        "\n",
        "embedding = HuggingFaceEmbeddings()"
      ]
    },
    {
      "cell_type": "markdown",
      "metadata": {},
      "source": [
        "Computed embedding vectors can be stored in *vector stores*. The one we will use in this project is [Chroma](https://docs.trychroma.com/). It is free, runs locally and is perfect for our small document base."
      ]
    },
    {
      "cell_type": "code",
      "execution_count": 8,
      "metadata": {},
      "outputs": [
        {
          "data": {
            "text/plain": [
              "1510"
            ]
          },
          "execution_count": 8,
          "metadata": {},
          "output_type": "execute_result"
        }
      ],
      "source": [
        "# !pip install chromadb\n",
        "from langchain.vectorstores import Chroma\n",
        "\n",
        "persist_directory = \"docs/chroma/\"\n",
        "!rm -rf ./docs/chroma  # remove old database files if any\n",
        "vectordb = Chroma.from_documents(documents=splits, embedding=embedding, persist_directory=persist_directory)\n",
        "vectordb._collection.count()"
      ]
    },
    {
      "cell_type": "markdown",
      "metadata": {},
      "source": [
        "## Retrieval\n",
        "\n",
        "Retrieval is the act of retrieving text chunks from our vector store, given an input prompt.\n",
        "\n",
        "Basic retrieval is performed by comparing the prompt embedding with those of the text chunks. More complex retrieval techniques involve calls to an LLM.\n",
        "\n",
        "### Basic retrieval\n",
        "\n",
        "Let's first test a retrieval technique based on similarity search in the vector store. Given a prompt, the procedure should return the most similar or relevant chunks in the vector database.\n",
        "\n",
        "The question below will be used as a test for everything else below in the notebook. It is related to reinforcement learning, an area in which I have a few hundred documents written on Obsidian. You can find more about the question [here](https://spinningup.openai.com/en/latest/spinningup/rl_intro.html#value-functions) to see if our retrieval methods actually nail the answer."
      ]
    },
    {
      "cell_type": "code",
      "execution_count": 9,
      "metadata": {},
      "outputs": [],
      "source": [
        "question = \"What is the definition of the action value function?\""
      ]
    },
    {
      "cell_type": "markdown",
      "metadata": {},
      "source": [
        "The first example of retrieval is *similarity search*, which will convert the prompt into an embedding vector and compute the cosine similarity between the prompt embedding and the embeddings of all chunks in the vector store, returning the *k* most similar chunks."
      ]
    },
    {
      "cell_type": "code",
      "execution_count": 10,
      "metadata": {},
      "outputs": [
        {
          "name": "stdout",
          "output_type": "stream",
          "text": [
            "The action-value function represents the expected return from a given state after taking a specific action and later following a specific policy.\n",
            "\n",
            "$$q_{\\pi}(s,a)=\\mathbb{E}_{\\pi}[G_t|S_t=s,A_t=a]$$\n",
            "\n",
            "where $G_t$ is the Expected sum of future rewards.\n",
            "\n",
            "---\n",
            "\n",
            "A value function maps states, or state-action pairs, to expected returns.\n",
            "\n",
            "- State-value function\n",
            "- Action-value function\n",
            "\n",
            "---\n",
            "\n",
            "The state-value function represents the expected return from a given state, possibly under a given policy.\n",
            "\n",
            "$$v(s)=\\mathbb{E}[G_t|S_t=s]$$\n",
            "$$v_{\\pi}(s)=\\mathbb{E}_{\\pi}[G_t|S_t=s]$$\n",
            "\n",
            "where $G_t$ is the Expected sum of future rewards.\n",
            "\n",
            "---\n",
            "\n",
            "The same goes for the Action-value function.\n",
            "\n",
            "$$\\begin{align}\n",
            "q_*(s,a) & = \\sum_{s'}\\sum_r p(s',r|s,a)[r + \\gamma \\sum_{a'} \\pi_*(a'|s') q_*(s',a')] \\\\\n",
            "       & = \\sum_{s'}\\sum_r p(s',r|s,a)[r + \\gamma \\max_{a'} q_*(s',a')]\n",
            "\\end{align}$$\n",
            "\n",
            "---\n",
            "\n",
            "Let's say we have a policy $\\pi_1$ that has a value function $v_{\\pi_1}$. If we use $v_{\\pi_1}$ to evaluate states but, instead of following $\\pi_1$, we actually always select the actions that will take us to the future state $s'$ with highest $v_{\\pi_1}(s')$, we will end up with a policy $\\pi_2$ that is equal to or better than $\\pi_1$.\n",
            "\n",
            "---\n",
            "\n",
            "$$\\begin{align}\n",
            "v_*(s) & = \\sum_a \\pi_*(a|s) & \\sum_{s'}\\sum_r p(s',r|s,a)[r + \\gamma v_*(s')] \\\\\n",
            "       & = \\max_a & \\sum_{s'}\\sum_r p(s',r|s,a)[r + \\gamma v_*(s')]\n",
            "\\end{align}$$\n",
            "where $\\pi_*$ is the Optimal policy.\n",
            "\n",
            "The same goes for the Action-value function.\n",
            "\n",
            "---\n",
            "\n",
            "It's a function that dictates the probability the state will find itself in an arbitrary state $s'$ and the agent will receive reward $r$, given the current state the environment finds itself in, $s$, and the action chosen by the agent in $s$, depicted as $a$. It is usually denoted as $p(s',r|s,a)$.\n",
            "\n",
            "Some properties of this function:\n",
            "\n",
            "---\n",
            "\n",
            "Policy evaluation is the task of finding the state-value function $v_{\\pi}$, given the policy $\\pi$. ^1b9b46\n",
            "\n",
            "---\n",
            "\n"
          ]
        }
      ],
      "source": [
        "retrieved_docs = vectordb.similarity_search(question, k=8)\n",
        "for doc in retrieved_docs:\n",
        "  print(doc.page_content, end=\"\\n\\n---\\n\\n\")"
      ]
    },
    {
      "cell_type": "markdown",
      "metadata": {},
      "source": [
        "#### Maximum marginal relevance search\n",
        "\n",
        "Plain similarity search has a drawback. It tends to recover chunks which are very similar or even identical, diminishing the overall amount of information present in the retrieved chunks.\n",
        "\n",
        "To solve this, LangChain provides a method called maximum marginal relevance search, which works by *\"[...] finding the examples with the embeddings that have the greatest cosine similarity with the inputs, and then iteratively adding them while penalizing them for closeness to already selected examples.\"* [[source]](https://python.langchain.com/docs/modules/model_io/prompts/example_selector_types/mmr)"
      ]
    },
    {
      "cell_type": "code",
      "execution_count": 11,
      "metadata": {},
      "outputs": [
        {
          "name": "stdout",
          "output_type": "stream",
          "text": [
            "The action-value function represents the expected return from a given state after taking a specific action and later following a specific policy.\n",
            "\n",
            "$$q_{\\pi}(s,a)=\\mathbb{E}_{\\pi}[G_t|S_t=s,A_t=a]$$\n",
            "\n",
            "where $G_t$ is the Expected sum of future rewards.\n",
            "---\n",
            "A value function maps states, or state-action pairs, to expected returns.\n",
            "\n",
            "- State-value function\n",
            "- Action-value function\n",
            "---\n",
            "A generalization of Sarsa which employs the n-step return for the action value function,\n",
            "\n",
            "!n-step return#^205a30 ^68659e\n",
            "\n",
            "This estimate is then used in the following update rule for the action-value of the state-action pair at time $t$.\n",
            "\n",
            "$$Q_{t+n}(S_t, A_t) \\doteq Q_{t+n-1}(S_t, A_t) + \\alpha [G_{t:t+n} - \\gamma^n Q_{t+n-1}(S_t, A_t)]$$ ^ca04db\n",
            "---\n",
            "- if the agent exploits without having a good estimate of the action-value function, it will most likely be locked in suboptimal behavior, not being able to gather information from unknown transitions which might bring it more return.\n",
            "---\n",
            "Some properties of this function:\n",
            "\n",
            "It maps states and actions to states and rewards, so its cardinality is $$p:S \\times R \\times S \\times A \\to [0;1]$$\n",
            "\n",
            "It is a probability, so the sum over all possible combinations of states and rewards must be one,\n",
            "$$\\sum_{s' \\in S} \\sum_{r \\in R} p(s',r|s,a) = 1, \\forall s \\in S, a \\in A(s)$$\n",
            "---\n",
            "# Factored value functions in cooperative multi-agent reinforcement learning\n",
            "\n",
            "<iframe width=\"560\" height=\"315\" src=\"https://www.youtube.com/embed/W_9kcQmaWjo?start=684\" frameborder=\"0\" allow=\"accelerometer; autoplay; clipboard-write; encrypted-media; gyroscope; picture-in-picture\" allowfullscreen></iframe>\n",
            "\n",
            "VDN was the first one and the one I used in my Doctorate.\n",
            "---\n",
            "- Exploitation: select the greedy action with relation to the action-value function.\n",
            "- Exploration: select a non-greedy action.\n",
            "---\n",
            "Given the following MDP:\n",
            "\n",
            "!Pasted image 20210523192818.png\n",
            "\n",
            "The Bellman equation allows the value function to be expressed and solved as a system of linear equations: ^c06dd9\n",
            "\n",
            "!Bellman equation for the state-value function#^a65ad4\n",
            "---\n"
          ]
        }
      ],
      "source": [
        "retrieved_docs = vectordb.max_marginal_relevance_search(question, k=8)\n",
        "for doc in retrieved_docs:\n",
        "  print(doc.page_content, end=\"\\n---\\n\")"
      ]
    },
    {
      "cell_type": "markdown",
      "metadata": {},
      "source": [
        "### LLM-backed retrieval\n",
        "\n",
        "Some retrieval techniques require an underlying language model to be performed. The LLM may be used to, e.g. summarize or make chunks more coherent before returning them.\n",
        "\n",
        "#### Instantiating the LLM\n",
        "\n",
        "The LLM I chose is [Mistral-7B-OpenOrca](https://huggingface.co/Open-Orca/Mistral-7B-OpenOrca), provided by [GPT4All](https://gpt4all.io/index.html).\n",
        "\n",
        "- [Mistral 7B](https://mistral.ai/news/announcing-mistral-7b/) is the best free and open 7 billion parameter LLM. It is also small enough to run on my GPU.\n",
        "- The [OpenOrca dataset](https://huggingface.co/datasets/Open-Orca/OpenOrca) is a conversation dataset.\n",
        "- According to [Mistral's product website](https://mistral.ai/product/), this model has an 8k context window, which we should consider when retrieving chunks for it to process."
      ]
    },
    {
      "cell_type": "code",
      "execution_count": 12,
      "metadata": {},
      "outputs": [
        {
          "name": "stderr",
          "output_type": "stream",
          "text": [
            "llama.cpp: using Vulkan on NVIDIA GeForce GTX 1070\n"
          ]
        }
      ],
      "source": [
        "# !pip install gpt4all\n",
        "# !pip install lark\n",
        "# !wget https://gpt4all.io/models/gguf/mistral-7b-openorca.Q4_0.gguf -O models/my_little_llm.gguf\n",
        "# !wget https://gpt4all.io/models/gguf/nous-hermes-llama2-13b.Q4_0.gguf -O models/my_little_llm.gguf\n",
        "from langchain_community.llms.gpt4all import GPT4All\n",
        "\n",
        "llm = GPT4All(model=\"models/my_little_llm.gguf\", device=\"gpu\")"
      ]
    },
    {
      "cell_type": "markdown",
      "metadata": {},
      "source": [
        "#### Self-query retrieval\n",
        "\n",
        "Self-query is a technique in which an LLM is specifically prompted to output a *structured query*. It also allows it to take document/chunk metadata into consideration, as long as we describe each attribute in the metadata with a textual description.\n",
        "\n",
        "Under the hood, self-query performs some pretty convoluted modifications to the original prompt and I advise you look at the documentation to understand what's going on. [[Source]](https://python.langchain.com/docs/modules/data_connection/retrievers/self_query#constructing-from-scratch-with-lcel)\n",
        "\n",
        "As we have seen when inspecting our splits, we can see that our data includes metadata taken from the file properties of Obsidian documents. We will go ahead and described them as attributes for the self-query retriever."
      ]
    },
    {
      "cell_type": "code",
      "execution_count": 14,
      "metadata": {},
      "outputs": [],
      "source": [
        "from langchain.chains.query_constructor.base import AttributeInfo\n",
        "\n",
        "metadata_field_info = [\n",
        "  AttributeInfo(\n",
        "    name=\"source\",\n",
        "    description=\"The name of the Markdown file that contained the chunk. If you ignore the .md extension, it is the name of the article the chunk came from.\",\n",
        "    type=\"string\",\n",
        "  ),\n",
        "  AttributeInfo(\n",
        "    name=\"aliases\",\n",
        "    description=\"Other names for the article the chunk came from, if any.\",\n",
        "    type=\"string\",\n",
        "  ),\n",
        "  AttributeInfo(\n",
        "    name=\"tags\",\n",
        "    description=\"A series of comma-separated tags that categorize the article the chunk came from. When a tags starts with 'area', it denotes a broad area of knowledge. When it starts with 'project', it describes a specific project with beginning and end.\",\n",
        "    type=\"string\",\n",
        "  ),\n",
        "  AttributeInfo(\n",
        "    name=\"authors\",\n",
        "    description=\"When the document summarizes a scientific paper, this attribute holds a comma-separated list of author names.\",\n",
        "    type=\"string\",\n",
        "  ),\n",
        "  AttributeInfo(\n",
        "    name=\"year\",\n",
        "    description=\"When the document summarizes a scientific paper, this attribute contains the year of the publication.\",\n",
        "    type=\"integer\",\n",
        "  ),\n",
        "]\n",
        "document_content_description = \"A collection of study notes in Markdown format written by a single author, mostly about artificial intelligence topics.\""
      ]
    },
    {
      "cell_type": "markdown",
      "metadata": {},
      "source": [
        "The self-query retriever can also be configured to use maximum marginal relevance search, as you can see in the `base_retriever` argument below."
      ]
    },
    {
      "cell_type": "code",
      "execution_count": 15,
      "metadata": {},
      "outputs": [],
      "source": [
        "from langchain.retrievers.self_query.base import SelfQueryRetriever\n",
        "\n",
        "retriever = SelfQueryRetriever.from_llm(\n",
        "  llm=llm,\n",
        "  vectorstore=vectordb,\n",
        "  document_contents=document_content_description,\n",
        "  metadata_field_info=metadata_field_info,\n",
        "  base_retriever=vectordb.as_retriever(search_type=\"mmr\", k=8),\n",
        ")"
      ]
    },
    {
      "cell_type": "code",
      "execution_count": 16,
      "metadata": {},
      "outputs": [
        {
          "data": {
            "text/plain": [
              "[Document(page_content='!Pasted image 20231129031306.png', metadata={'created': 1708307272.9665868, 'date': '2023-11-29 01:34', 'last_accessed': 1708307272.9699202, 'last_modified': 1708307272.9665868, 'path': '/home/dodo/Documents/Obsidian/Single linkage.md', 'source': 'Single linkage.md', 'tags': 'area/ai/ml/clustering'}),\n",
              " Document(page_content='!Pasted image 20230317051147.png', metadata={'created': 1680667926.0942817, 'date': '2023-03-17 04:33', 'last_accessed': 1708267663.323892, 'last_modified': 1680667926.0942817, 'path': '/home/dodo/Documents/Obsidian/Comparing feature vectors in NLP.md', 'source': 'Comparing feature vectors in NLP.md', 'tags': 'area/ai/nlp project/nlp-spec'}),\n",
              " Document(page_content='!Pasted image 20230325081439.png', metadata={'created': 1679742881.9000912, 'last_accessed': 1708267661.4972079, 'last_modified': 1679742881.9000912, 'path': '/home/dodo/Documents/Obsidian/Text cleaning.md', 'source': 'Text cleaning.md'}),\n",
              " Document(page_content='!_attachments/Pasted image 20210523185724.png', metadata={'created': 1680669713.8148472, 'date': '2023-04-05 01:41', 'last_accessed': 1708267662.710553, 'last_modified': 1680669713.8148472, 'path': '/home/dodo/Documents/Obsidian/Iterative policy evaluation.md', 'source': 'Iterative policy evaluation.md', 'tags': 'area/ai/rl project/rl-spec'})]"
            ]
          },
          "execution_count": 16,
          "metadata": {},
          "output_type": "execute_result"
        }
      ],
      "source": [
        "retriever.invoke(question)"
      ]
    },
    {
      "cell_type": "markdown",
      "metadata": {},
      "source": [
        "As we can see, without more informative metadata (or better preprocessing of the text documents), the retrieved chunks are not very useful. It only retrieved chunks related to figures."
      ]
    },
    {
      "cell_type": "markdown",
      "metadata": {},
      "source": [
        "### Contextual compression retrieval\n",
        "\n",
        "As a final test on retrieval, we will implement a *\"contextual compression retriever\"*.\n",
        "\n",
        "From the [LangChain documentation](https://python.langchain.com/docs/modules/data_connection/retrievers/contextual_compression):\n",
        "\n",
        ">The Contextual Compression Retriever passes queries to the base retriever, takes the initial documents and passes them through the Document Compressor. The Document Compressor takes a list of documents and shortens it by reducing the contents of documents or dropping documents altogether.\n",
        "\n",
        "In our case:\n",
        "\n",
        "- The base retriever will be a maximum marginal similarity search.\n",
        "- The compressor will be Mistral-7b-OpenOrca.\n",
        "\n",
        "Our hope is that the small, irrelevant chunks returned by the self-query retriever will be dropped and more relevant chunks will be summarized and returned."
      ]
    },
    {
      "cell_type": "code",
      "execution_count": 17,
      "metadata": {},
      "outputs": [],
      "source": [
        "from langchain.retrievers import ContextualCompressionRetriever\n",
        "from langchain.retrievers.document_compressors import LLMChainExtractor\n",
        "\n",
        "compressor = LLMChainExtractor.from_llm(llm)\n",
        "compression_retriever = ContextualCompressionRetriever(\n",
        "  base_compressor=compressor, base_retriever=vectordb.as_retriever(search_type=\"mmr\")\n",
        ")"
      ]
    },
    {
      "cell_type": "code",
      "execution_count": 18,
      "metadata": {},
      "outputs": [
        {
          "name": "stderr",
          "output_type": "stream",
          "text": [
            "/home/dodo/.anaconda3/envs/langsidian/lib/python3.12/site-packages/langchain/chains/llm.py:316: UserWarning: The predict_and_parse method is deprecated, instead pass an output parser directly to LLMChain.\n",
            "  warnings.warn(\n",
            "/home/dodo/.anaconda3/envs/langsidian/lib/python3.12/site-packages/langchain/chains/llm.py:316: UserWarning: The predict_and_parse method is deprecated, instead pass an output parser directly to LLMChain.\n",
            "  warnings.warn(\n",
            "/home/dodo/.anaconda3/envs/langsidian/lib/python3.12/site-packages/langchain/chains/llm.py:316: UserWarning: The predict_and_parse method is deprecated, instead pass an output parser directly to LLMChain.\n",
            "  warnings.warn(\n",
            "/home/dodo/.anaconda3/envs/langsidian/lib/python3.12/site-packages/langchain/chains/llm.py:316: UserWarning: The predict_and_parse method is deprecated, instead pass an output parser directly to LLMChain.\n",
            "  warnings.warn(\n"
          ]
        },
        {
          "data": {
            "text/plain": [
              "[Document(page_content='The action-value function represents the expected return from a given state after taking a specific action and later following a specific policy.', metadata={'created': 1680669936.852964, 'date': '2023-04-05 01:45', 'last_accessed': 1708267660.0105264, 'last_modified': 1680669936.852964, 'path': '/home/dodo/Documents/Obsidian/Action-value function.md', 'source': 'Action-value function.md', 'tags': 'area/ai/rl project/rl-spec'}),\n",
              " Document(page_content='Action-value function', metadata={'created': 1680669672.8131003, 'date': '2023-04-05 01:41', 'last_accessed': 1708267659.7238567, 'last_modified': 1680669672.8131003, 'path': '/home/dodo/Documents/Obsidian/Value functions.md', 'source': 'Value functions.md', 'tags': 'area/ai/rl project/rl-spec'}),\n",
              " Document(page_content='*NO_OUTPUT*\\n\\nThe definition of the action value function is not mentioned in this context.', metadata={'created': 1633628586.5949209, 'date': '2021-03-02 23:01', 'last_accessed': 1708267661.2005382, 'last_modified': 1632030179.7187316, 'path': '/home/dodo/Documents/Obsidian/Factored value functions in cooperative multi-agent reinforcement learning.md', 'source': 'Factored value functions in cooperative multi-agent reinforcement learning.md', 'tags': 'None'}),\n",
              " Document(page_content='Action-Value Function Definition: Not mentioned in the context.', metadata={'created': 1680669515.4254303, 'date': '2023-04-05 01:38', 'last_accessed': 1708267661.453874, 'last_modified': 1680669515.4254303, 'path': '/home/dodo/Documents/Obsidian/Exploration-exploitation tradeoff.md', 'source': 'Exploration-exploitation tradeoff.md', 'tags': 'area/ai/rl project/rl-spec'})]"
            ]
          },
          "execution_count": 18,
          "metadata": {},
          "output_type": "execute_result"
        }
      ],
      "source": [
        "compressed_docs = compression_retriever.get_relevant_documents(question)\n",
        "compressed_docs"
      ]
    },
    {
      "cell_type": "markdown",
      "metadata": {},
      "source": [
        "These results seem much better than the previous ones, but they are still just a collection of chunks. When interacting with LLMs and chatbots in general, we expect a more direct response.\n",
        "\n",
        "## Question-answering using LLMs and RAG\n",
        "\n",
        "In this example, we will perform retrieval augmented generation for question-answering in an Obsidian document database.\n",
        "\n",
        "To summarize what we already have for this step:\n",
        "\n",
        "1. Our documents have been loaded and preprocessed.\n",
        "1. Chunks have been split from the documents, embedded and stored in the vector store.\n",
        "1. An LLM has been successfully loaded into memory.\n",
        "\n",
        "### Plain retrieval Q&A\n",
        "\n",
        "This method of Q&A uses the prompt to find relevant chunks in the vector store. These chunks are called the *context* of the prompt and they are concatenated to the prompt, which is then passed directly to the LLM."
      ]
    },
    {
      "cell_type": "code",
      "execution_count": 19,
      "metadata": {},
      "outputs": [],
      "source": [
        "from langchain.chains import RetrievalQA\n",
        "\n",
        "qa_chain = RetrievalQA.from_chain_type(llm=llm, retriever=vectordb.as_retriever(search_type=\"mmr\"))"
      ]
    },
    {
      "cell_type": "markdown",
      "metadata": {},
      "source": [
        "We can see which arguments the chain expects by inspecting the input_keys `list`."
      ]
    },
    {
      "cell_type": "code",
      "execution_count": 20,
      "metadata": {},
      "outputs": [
        {
          "data": {
            "text/plain": [
              "['query']"
            ]
          },
          "execution_count": 20,
          "metadata": {},
          "output_type": "execute_result"
        }
      ],
      "source": [
        "qa_chain.input_keys"
      ]
    },
    {
      "cell_type": "code",
      "execution_count": 21,
      "metadata": {},
      "outputs": [
        {
          "name": "stderr",
          "output_type": "stream",
          "text": [
            "/home/dodo/.anaconda3/envs/langsidian/lib/python3.12/site-packages/langchain_core/_api/deprecation.py:117: LangChainDeprecationWarning: The function `__call__` was deprecated in LangChain 0.1.0 and will be removed in 0.2.0. Use invoke instead.\n",
            "  warn_deprecated(\n"
          ]
        }
      ],
      "source": [
        "result = qa_chain({\"query\": question})"
      ]
    },
    {
      "cell_type": "markdown",
      "metadata": {},
      "source": [
        "The result of prompting the overall system can be seen below. If you remember the definition of the action-value function [[source]](https://spinningup.openai.com/en/latest/spinningup/rl_intro.html#value-functions), our Q&A bot has pretty much nailed it!"
      ]
    },
    {
      "cell_type": "code",
      "execution_count": 22,
      "metadata": {},
      "outputs": [
        {
          "data": {
            "text/plain": [
              "{'query': 'What is the definition of the action value function?',\n",
              " 'result': ' The action-value function represents the expected return from a given state after taking a specific action and later following a specific policy.'}"
            ]
          },
          "execution_count": 22,
          "metadata": {},
          "output_type": "execute_result"
        }
      ],
      "source": [
        "result"
      ]
    },
    {
      "cell_type": "markdown",
      "metadata": {},
      "source": [
        "Under the hood, the `RetrievalQA` object uses a prompt template into which it replaces the context and the question before sending the full text prompt to the LLM. We can see it by inspecting the object's graph."
      ]
    },
    {
      "cell_type": "code",
      "execution_count": 23,
      "metadata": {},
      "outputs": [
        {
          "data": {
            "text/plain": [
              "{'7eac904b44594e20852d8f0519ef0c3e': Node(id='7eac904b44594e20852d8f0519ef0c3e', data=<class 'pydantic.v1.main.ChainInput'>),\n",
              " '8e824ec8c0654d0db3b83b56bd66b619': Node(id='8e824ec8c0654d0db3b83b56bd66b619', data=RetrievalQA(combine_documents_chain=StuffDocumentsChain(llm_chain=LLMChain(prompt=PromptTemplate(input_variables=['context', 'question'], template=\"Use the following pieces of context to answer the question at the end. If you don't know the answer, just say that you don't know, don't try to make up an answer.\\n\\n{context}\\n\\nQuestion: {question}\\nHelpful Answer:\"), llm=GPT4All(model='models/my_little_llm.gguf', device='gpu', client=<gpt4all.gpt4all.GPT4All object at 0x776da5594320>)), document_variable_name='context'), retriever=VectorStoreRetriever(tags=['Chroma', 'HuggingFaceEmbeddings'], vectorstore=<langchain_community.vectorstores.chroma.Chroma object at 0x776cf1b45be0>, search_type='mmr'))),\n",
              " '4b55a6602f9542fe8d583ac66c6ae722': Node(id='4b55a6602f9542fe8d583ac66c6ae722', data=<class 'pydantic.v1.main.ChainOutput'>)}"
            ]
          },
          "execution_count": 23,
          "metadata": {},
          "output_type": "execute_result"
        }
      ],
      "source": [
        "qa_chain.get_graph().nodes"
      ]
    },
    {
      "cell_type": "markdown",
      "metadata": {},
      "source": [
        "### Retrieval Q&A with custom prompt template\n",
        "\n",
        "The example below shows how to edit the prompt template used by the chain, albeit, in this case, with limited success. This is due to the limited performance of the LLM being used."
      ]
    },
    {
      "cell_type": "code",
      "execution_count": 24,
      "metadata": {},
      "outputs": [],
      "source": [
        "from langchain.prompts import PromptTemplate\n",
        "\n",
        "# Build prompt\n",
        "template = \"\"\"Use the following pieces of context to answer the question at the end. If you don't know the answer, just say that you don't know, don't try to make up an answer. At the end of the response, say \\\"over and out\\\".\n",
        "{context}\n",
        "Question: {question}\n",
        "Helpful Answer:\"\"\"\n",
        "qa_chain_prompt = PromptTemplate.from_template(template)\n",
        "# Run chain\n",
        "qa_chain = RetrievalQA.from_chain_type(\n",
        "  llm,\n",
        "  retriever=vectordb.as_retriever(search_type=\"mmr\"),\n",
        "  return_source_documents=True,\n",
        "  chain_type_kwargs={\"prompt\": qa_chain_prompt},\n",
        ")"
      ]
    },
    {
      "cell_type": "markdown",
      "metadata": {},
      "source": [
        "Let's ask a few questions to our Q&A bot and render the output as some nice Markdown.\n",
        "\n",
        "Note that we can also output the documents that were retrieved during RAG and used to compose the answer, but that would pollute the output too much, so I left it commented out."
      ]
    },
    {
      "cell_type": "code",
      "execution_count": 25,
      "metadata": {},
      "outputs": [
        {
          "data": {
            "text/markdown": [
              "**Question: Given me the equation for the action value function update.**\n",
              "\n",
              " Answer:  The equation for the action-value function update is given by:\n",
              "\n",
              "$$q_{\\pi}(s,a) = R(s,a) + \\<dummy32001>{ \\gamma V_\\pi (s') | s' \\in S'} $$\n",
              "\n",
              "where $R(s,a)$ is the reward received when taking action a in state s and $\\gamma$ is the discount factor."
            ],
            "text/plain": [
              "<IPython.core.display.Markdown object>"
            ]
          },
          "metadata": {},
          "output_type": "display_data"
        },
        {
          "data": {
            "text/markdown": [
              "**Question: What is the overall architecture of the Deep Q-Networks?**\n",
              "\n",
              " Answer:  The overall architecture of a Deep Q-Network (DQN) consists of an input layer, multiple hidden layers with nonlinear activation functions, and an output layer. It uses experience replay to store past experiences for training purposes, and employs target networks to stabilize the learning process.\n",
              "over and out"
            ],
            "text/plain": [
              "<IPython.core.display.Markdown object>"
            ]
          },
          "metadata": {},
          "output_type": "display_data"
        },
        {
          "data": {
            "text/markdown": [
              "**Question: What is the difference between causal language modelling and masked language modelling?**\n",
              "\n",
              " Answer:  Causal language modeling refers to a method where the model predicts the next token in a sequence based on the previous tokens. In contrast, masked language modeling involves randomly masking some tokens during training time and then trains the model to reconstruct the original text by predicting the masked tokens."
            ],
            "text/plain": [
              "<IPython.core.display.Markdown object>"
            ]
          },
          "metadata": {},
          "output_type": "display_data"
        },
        {
          "data": {
            "text/markdown": [
              "**Question: What is zero-shot learning?**\n",
              "\n",
              " Answer:  Zero-shot learning refers to a model's ability to perform new tasks without being explicitly trained on those specific tasks or examples. In the context of large language models, it means that an AI can execute new tasks without needing any explicit training data for those tasks."
            ],
            "text/plain": [
              "<IPython.core.display.Markdown object>"
            ]
          },
          "metadata": {},
          "output_type": "display_data"
        },
        {
          "data": {
            "text/markdown": [
              "**Question: Explain to me the concept of bucketing in RNNs.**\n",
              "\n",
              " Answer:  Bucketing in RNNs refers to grouping or organizing input sequences into fixed-sized groups, called \"buckets\", before processing them with an RNN model. This technique helps improve training efficiency and reduce padding by ensuring that each bucket contains a sufficient amount of randomness and variability while preventing it from being too large so as not to introduce excessive padding."
            ],
            "text/plain": [
              "<IPython.core.display.Markdown object>"
            ]
          },
          "metadata": {},
          "output_type": "display_data"
        },
        {
          "data": {
            "text/markdown": [
              "**Question: What is a named entity in the concept of NLP?**\n",
              "\n",
              " Answer:  In the context of Natural Language Processing (NLP), a named entity refers to a real-world object that can be denoted with a proper name. Examples are a person, location, organization, product. It can be abstract or have a physical existence."
            ],
            "text/plain": [
              "<IPython.core.display.Markdown object>"
            ]
          },
          "metadata": {},
          "output_type": "display_data"
        }
      ],
      "source": [
        "from IPython.display import Markdown\n",
        "\n",
        "questions = [\n",
        "  \"Given me the equation for the action value function update.\",\n",
        "  \"What is the overall architecture of the Deep Q-Networks?\",\n",
        "  \"What is the difference between causal language modelling and masked language modelling?\",\n",
        "  \"What is zero-shot learning?\",\n",
        "  \"Explain to me the concept of bucketing in RNNs.\",\n",
        "  \"What is a named entity in the concept of NLP?\",\n",
        "]\n",
        "\n",
        "for q in questions:\n",
        "  result = qa_chain({\"query\": q})\n",
        "\n",
        "  display(Markdown(f\"**Question: {result[\"query\"]}**\\n\\n Answer: {result['result']}\"))\n",
        "  # source_docs = \"\\n\\n\".join(d.page_content for d in result[\"source_documents\"])\n",
        "  # print(\n",
        "  #     f\"Source documents\\n\\n{source_docs}\"\n",
        "  # )"
      ]
    },
    {
      "cell_type": "markdown",
      "metadata": {},
      "source": [
        "In some answers, the model has actually followed the instructions from the new prompt, but we need a much more powerful LLM, or the employment of techniques such as few-shot learning, to get better instruction-following results.\n",
        "\n",
        "## Conclusions\n",
        "\n",
        "This notebook presented a proof-of-concept on how to create a question-answering bot powered by an LLM and with knowledge extracted from actual documents, more specifically, a collection of notes from Obsidian.\n",
        "\n",
        "We were able to run all experiments locally, using a 7th gen i7, an NVIDIA GTX 1070 and 32 GBs of RAM.\n",
        "\n",
        "We were also introduced to many concepts on the road to building this Q&A bot, such as:\n",
        "\n",
        "1. Document loading\n",
        "1. Text data cleaning using regex\n",
        "1. Splitting of Markdown documents into text chunks\n",
        "1. Sentence embeddings\n",
        "1. Vector stores\n",
        "1. Similarity search using cosine similarity between embedding vectors\n",
        "1. Maximum marginal relevance search\n",
        "1. Self-query retrieval\n",
        "1. Contextual compression retrieval\n",
        "1. Question-answering with retrieval augmented generation\n",
        "1. Question-answering with retrieval augmented generation and custom templates\n",
        "\n",
        "In future work, let's build an actual chatbot that remembers previous answers and can keep up a lengthier conversation."
      ]
    }
  ],
  "metadata": {
    "kernelspec": {
      "display_name": "langsidian",
      "language": "python",
      "name": "python3"
    },
    "language_info": {
      "codemirror_mode": {
        "name": "ipython",
        "version": 3
      },
      "file_extension": ".py",
      "mimetype": "text/x-python",
      "name": "python",
      "nbconvert_exporter": "python",
      "pygments_lexer": "ipython3",
      "version": "3.12.2"
    }
  },
  "nbformat": 4,
  "nbformat_minor": 2
}
